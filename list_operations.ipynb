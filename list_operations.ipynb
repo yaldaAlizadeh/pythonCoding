{
  "nbformat": 4,
  "nbformat_minor": 0,
  "metadata": {
    "colab": {
      "provenance": [],
      "authorship_tag": "ABX9TyPDs41yp9uTAGnAnbvvcuAB",
      "include_colab_link": true
    },
    "kernelspec": {
      "name": "python3",
      "display_name": "Python 3"
    },
    "language_info": {
      "name": "python"
    }
  },
  "cells": [
    {
      "cell_type": "markdown",
      "metadata": {
        "id": "view-in-github",
        "colab_type": "text"
      },
      "source": [
        "<a href=\"https://colab.research.google.com/github/yaldaAlizadeh/pythonCoding/blob/main/list_operations.ipynb\" target=\"_parent\"><img src=\"https://colab.research.google.com/assets/colab-badge.svg\" alt=\"Open In Colab\"/></a>"
      ]
    },
    {
      "cell_type": "code",
      "execution_count": 1,
      "metadata": {
        "colab": {
          "base_uri": "https://localhost:8080/"
        },
        "id": "BjNQy8LkOoCQ",
        "outputId": "ecd0e85e-49ff-4e9c-ba62-52595a2bdf5b"
      },
      "outputs": [
        {
          "output_type": "stream",
          "name": "stdout",
          "text": [
            "1 3\n",
            "[2, 3]\n",
            "[3, 2, 1]\n",
            "[1, 200, 3]\n",
            "[0, 1, 200, 3, 4, 5, 6]\n",
            "[0, 1, 3, 4, 5]\n",
            "[5, 4, 3, 1, 0]\n",
            "[1, 2, 3, 4]\n",
            "[1, 2, 3]\n"
          ]
        }
      ],
      "source": [
        "# Creation\n",
        "lst = [1, 2, 3]\n",
        "empty = []               # or list()\n",
        "mixed = [1, \"a\", 3.5, [1, 2]]  # nested list\n",
        "\n",
        "# Access\n",
        "print(lst[0], lst[-1])   # 1, 3\n",
        "print(lst[1:])           # [2, 3]\n",
        "print(lst[::-1])         # reverse view [3, 2, 1]\n",
        "\n",
        "# Modify (lists are mutable)\n",
        "lst[1] = 200\n",
        "print(lst)               # [1, 200, 3]\n",
        "\n",
        "# Methods\n",
        "lst.append(4)            # add at end\n",
        "lst.extend([5, 6])       # add multiple\n",
        "lst.insert(0, 0)         # insert at index\n",
        "print(lst)               # [0, 1, 200, 3, 4, 5, 6]\n",
        "\n",
        "lst.pop()                # removes & returns last item\n",
        "lst.remove(200)          # removes first matching value\n",
        "print(lst)               # [0, 1, 3, 4, 5]\n",
        "\n",
        "lst.reverse()            # in-place reverse # <---------------------------------------------------------------\n",
        "lst.sort(reverse=True)   # in-place sort descending   # <---------------------------------------------------------------\n",
        "print(lst)               # [5, 4, 3, 1, 0]\n",
        "\n",
        "# Copy vs assignment\n",
        "a = [1, 2, 3]\n",
        "b = a\n",
        "c = a.copy()\n",
        "a.append(4)\n",
        "print(b)  # [1,2,3,4] (same reference)\n",
        "print(c)  # [1,2,3]   (independent copy)\n"
      ]
    },
    {
      "cell_type": "code",
      "source": [
        "x = [[0]] * 4\n",
        "x[0][0] = 2\n",
        "print(x)  # [[1], [1], [1]]\n"
      ],
      "metadata": {
        "colab": {
          "base_uri": "https://localhost:8080/"
        },
        "id": "4eZ6d-LvS6bu",
        "outputId": "20c96e9b-75f6-4d4c-e8f2-3a178cf8c7d6"
      },
      "execution_count": 7,
      "outputs": [
        {
          "output_type": "stream",
          "name": "stdout",
          "text": [
            "[[2], [2], [2], [2]]\n"
          ]
        }
      ]
    },
    {
      "cell_type": "code",
      "source": [],
      "metadata": {
        "id": "DV9B1ruWTcvW"
      },
      "execution_count": null,
      "outputs": []
    }
  ]
}