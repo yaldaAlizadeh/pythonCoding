{
  "nbformat": 4,
  "nbformat_minor": 0,
  "metadata": {
    "colab": {
      "provenance": [],
      "authorship_tag": "ABX9TyMrqTm/ojslJtcVmsHqqp3S",
      "include_colab_link": true
    },
    "kernelspec": {
      "name": "python3",
      "display_name": "Python 3"
    },
    "language_info": {
      "name": "python"
    }
  },
  "cells": [
    {
      "cell_type": "markdown",
      "metadata": {
        "id": "view-in-github",
        "colab_type": "text"
      },
      "source": [
        "<a href=\"https://colab.research.google.com/github/yaldaAlizadeh/pythonCoding/blob/main/set_operators.ipynb\" target=\"_parent\"><img src=\"https://colab.research.google.com/assets/colab-badge.svg\" alt=\"Open In Colab\"/></a>"
      ]
    },
    {
      "cell_type": "code",
      "execution_count": 18,
      "metadata": {
        "colab": {
          "base_uri": "https://localhost:8080/"
        },
        "id": "BbMrmn-Ke2-p",
        "outputId": "052df3da-67aa-4036-ac28-7f7f4b56582e"
      },
      "outputs": [
        {
          "output_type": "stream",
          "name": "stdout",
          "text": [
            "{1, 2, 3, 4, 5}\n",
            "{3}\n",
            "{1, 2}\n",
            "{1, 2, 4, 5}\n",
            "dd = 7\n",
            "h = [1, 3]\n",
            "remove error: 10\n",
            "{1, 2, 3, 4}\n",
            "[0, 1, 4, 9, 16, 25, 36, 49, 64, 81]\n",
            "frozenset({1, 2, 3})\n",
            "Frozen set error:  'frozenset' object has no attribute 'add'\n"
          ]
        }
      ],
      "source": [
        "# Creation\n",
        "st = {1, 2, 3}\n",
        "st2 = set([3, 4, 4, 5])  # <--------------------------------------------------------------convert list to set, non repeatable members in set\n",
        "\n",
        "print(st | st2)   # union -> {1, 2, 3, 4, 5}.  # <--------------------------------------------------------------\n",
        "print(st & st2)   # intersection -> {3}\n",
        "print(st - st2)   # difference -> {1, 2}\n",
        "print(st ^ st2)   # symmetric difference -> {1, 2, 4, 5}\n",
        "\n",
        "h = [1, 2, 3, 7]\n",
        "dd = h.pop() # <--------------------------------------------------------------\n",
        "print (\"dd =\",dd)\n",
        "h.remove(2)  # <--------------------------------------------------------------\n",
        "print(\"h =\",h)\n",
        "\n",
        "# Methods\n",
        "st.add(4) # <--------------------------------------------------------------\n",
        "st.discard(10)    # safe remove (no error) # <--------------------------------------------------------------\n",
        "try:\n",
        "    st.remove(10) # raises KeyError if not found # <--------------------------------------------------------------\n",
        "except KeyError as e:\n",
        "    print(\"remove error:\", e)\n",
        "\n",
        "print(st)         # {1,2,3,4}\n",
        "st.pop()          # removes arbitrary element # <-------------------------------------------------------------- pop works both for list and set\n",
        "st.clear()  # <-------------------------------------------------------------- erase all\n",
        "\n",
        "# Set comprehension\n",
        "squares = {pow(x, 2) for x in range(10)}\n",
        "print(sorted(squares))    # {0, 1, 4, 9, 16}\n",
        "\n",
        "# Frozen set (immutable)\n",
        "frozen = frozenset([1, 2, 2, 3]) # <--------------------------------------------------------------\n",
        "print(frozen)     # frozenset({1,2,3})\n",
        "try:\n",
        "  frozen.add(4)\n",
        "except AttributeError as e:\n",
        "  print(\"Frozen set error: \", e)\n"
      ]
    }
  ]
}