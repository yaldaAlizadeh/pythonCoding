{
  "nbformat": 4,
  "nbformat_minor": 0,
  "metadata": {
    "colab": {
      "provenance": [],
      "authorship_tag": "ABX9TyNw5r0rixKvn5R/D36Iju/K",
      "include_colab_link": true
    },
    "kernelspec": {
      "name": "python3",
      "display_name": "Python 3"
    },
    "language_info": {
      "name": "python"
    }
  },
  "cells": [
    {
      "cell_type": "markdown",
      "metadata": {
        "id": "view-in-github",
        "colab_type": "text"
      },
      "source": [
        "<a href=\"https://colab.research.google.com/github/yaldaAlizadeh/pythonCoding/blob/main/functions.ipynb\" target=\"_parent\"><img src=\"https://colab.research.google.com/assets/colab-badge.svg\" alt=\"Open In Colab\"/></a>"
      ]
    },
    {
      "cell_type": "code",
      "execution_count": 8,
      "metadata": {
        "colab": {
          "base_uri": "https://localhost:8080/"
        },
        "id": "q5pfR2lAWew2",
        "outputId": "54ab14f9-9270-4a48-ea74-45d3441d4dd5"
      },
      "outputs": [
        {
          "output_type": "stream",
          "name": "stdout",
          "text": [
            "x=5, y=6, u=1, z=0\n"
          ]
        },
        {
          "output_type": "execute_result",
          "data": {
            "text/plain": [
              "12"
            ]
          },
          "metadata": {},
          "execution_count": 8
        }
      ],
      "source": [
        "def add(x, y, /, u, z):\n",
        "    print(f\"x={x}, y={y}, u={u}, z={z}\")\n",
        "    return x + y + u + z\n",
        "\n",
        "add(5, 6, u=1, z=0)         # ✅ before / must be only by position, after that can be by position or key\n"
      ]
    },
    {
      "cell_type": "code",
      "source": [
        "# Order in signature: def f(positional, /, positional_or_keyword, *args, kwonly=..., **kwargs)\n",
        "def demo(a, b=0, *args, flag=True, **kwargs):\n",
        "    return {\"a\": a, \"b\": b, \"args\": args, \"flag\": flag, \"kwargs\": kwargs}  # <--------------------------------------------multiple returned values\n",
        "\n",
        "print(demo(1, 2, 3, 4, flag=False, mode=\"fast\"))\n",
        "# {'a': 1, 'b': 2, 'args': (3, 4), 'flag': False, 'kwargs': {'mode': 'fast'}}\n"
      ],
      "metadata": {
        "id": "TTJVOQjVYIXV"
      },
      "execution_count": null,
      "outputs": []
    },
    {
      "cell_type": "code",
      "source": [
        "# Late-binding gotcha: loop variables are captured by reference\n",
        "listOfFuncValues = []\n",
        "for i in range(3):\n",
        "    def myFunc(): return i   # all refer to the SAME 'i'\n",
        "    listOfFuncValues.append(myFunc)\n",
        "\n",
        "print([func() for func in listOfFuncValues])  # [2, 2, 2]  <-- surprise  # <--------------------------------------------\n"
      ],
      "metadata": {
        "colab": {
          "base_uri": "https://localhost:8080/"
        },
        "id": "_jSRp4XgqA2Q",
        "outputId": "965a251a-15ac-46bf-d9bb-3f9683dfb02c"
      },
      "execution_count": 5,
      "outputs": [
        {
          "output_type": "stream",
          "name": "stdout",
          "text": [
            "[2, 2, 2]\n"
          ]
        }
      ]
    },
    {
      "cell_type": "code",
      "source": [
        "# Closure: inner remembers 'x' even after outer returns\n",
        "def outer(x):\n",
        "    def inner(y):\n",
        "        return x + y\n",
        "    return inner\n",
        "\n",
        "inc10 = outer(10)\n",
        "print(inc10(5))  # 15\n",
        "\n",
        "\n",
        "def multiplier(n):\n",
        "    def inner(x):\n",
        "        return x * n\n",
        "    return inner\n",
        "\n",
        "double = multiplier(2)  # <--------------------------------------------   here double is not a variable, it is a function. in the line below, we call it with argument 5 which is fed as x.\n",
        "triple = multiplier(3)\n",
        "\n",
        "print(double(5))  # 10\n",
        "print(triple(5))  # 15\n",
        "\n"
      ],
      "metadata": {
        "colab": {
          "base_uri": "https://localhost:8080/"
        },
        "id": "gGJpV4hUqoXl",
        "outputId": "09c6e6de-86da-4a3f-d1dc-a18386fbf49c"
      },
      "execution_count": 6,
      "outputs": [
        {
          "output_type": "stream",
          "name": "stdout",
          "text": [
            "15\n"
          ]
        }
      ]
    }
  ]
}