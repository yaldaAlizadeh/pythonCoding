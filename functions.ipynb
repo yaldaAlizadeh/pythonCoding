{
  "nbformat": 4,
  "nbformat_minor": 0,
  "metadata": {
    "colab": {
      "provenance": [],
      "authorship_tag": "ABX9TyO6DWKljUjrog3rXnd41yoV",
      "include_colab_link": true
    },
    "kernelspec": {
      "name": "python3",
      "display_name": "Python 3"
    },
    "language_info": {
      "name": "python"
    }
  },
  "cells": [
    {
      "cell_type": "markdown",
      "metadata": {
        "id": "view-in-github",
        "colab_type": "text"
      },
      "source": [
        "<a href=\"https://colab.research.google.com/github/yaldaAlizadeh/pythonCoding/blob/main/functions.ipynb\" target=\"_parent\"><img src=\"https://colab.research.google.com/assets/colab-badge.svg\" alt=\"Open In Colab\"/></a>"
      ]
    },
    {
      "cell_type": "code",
      "execution_count": 8,
      "metadata": {
        "colab": {
          "base_uri": "https://localhost:8080/"
        },
        "id": "q5pfR2lAWew2",
        "outputId": "54ab14f9-9270-4a48-ea74-45d3441d4dd5"
      },
      "outputs": [
        {
          "output_type": "stream",
          "name": "stdout",
          "text": [
            "x=5, y=6, u=1, z=0\n"
          ]
        },
        {
          "output_type": "execute_result",
          "data": {
            "text/plain": [
              "12"
            ]
          },
          "metadata": {},
          "execution_count": 8
        }
      ],
      "source": [
        "def add(x, y, /, u, z):\n",
        "    print(f\"x={x}, y={y}, u={u}, z={z}\")\n",
        "    return x + y + u + z\n",
        "\n",
        "add(5, 6, u=1, z=0)         # ✅ before / must be only by position, after that can be by position or key\n"
      ]
    },
    {
      "cell_type": "code",
      "source": [
        "# Order in signature: def f(positional, /, positional_or_keyword, *args, kwonly=..., **kwargs)\n",
        "def demo(a, b=0, *args, flag=True, **kwargs):\n",
        "    return {\"a\": a, \"b\": b, \"args\": args, \"flag\": flag, \"kwargs\": kwargs}  # <--------------------------------------------multiple returned values\n",
        "\n",
        "print(demo(1, 2, 3, 4, flag=False, mode=\"fast\"))\n",
        "# {'a': 1, 'b': 2, 'args': (3, 4), 'flag': False, 'kwargs': {'mode': 'fast'}}\n"
      ],
      "metadata": {
        "id": "TTJVOQjVYIXV"
      },
      "execution_count": null,
      "outputs": []
    },
    {
      "cell_type": "code",
      "source": [
        "# Late-binding gotcha: loop variables are captured by reference\n",
        "listOfFuncValues = []\n",
        "for i in range(3):\n",
        "    def myFunc(): return i   # all refer to the SAME 'i'\n",
        "    listOfFuncValues.append(myFunc)\n",
        "\n",
        "print([func() for func in listOfFuncValues])  # [2, 2, 2]  <-- surprise  # <--------------------------------------------\n"
      ],
      "metadata": {
        "colab": {
          "base_uri": "https://localhost:8080/"
        },
        "id": "_jSRp4XgqA2Q",
        "outputId": "965a251a-15ac-46bf-d9bb-3f9683dfb02c"
      },
      "execution_count": 5,
      "outputs": [
        {
          "output_type": "stream",
          "name": "stdout",
          "text": [
            "[2, 2, 2]\n"
          ]
        }
      ]
    },
    {
      "cell_type": "code",
      "source": [
        "# Closure: inner remembers 'x' even after outer returns\n",
        "def outer(x):\n",
        "    def inner(y):\n",
        "        return x + y\n",
        "    return inner\n",
        "\n",
        "inc10 = outer(10)\n",
        "print(inc10(5))  # 15\n",
        "\n",
        "\n",
        "def multiplier(n):\n",
        "    def inner(x):\n",
        "        return x * n\n",
        "    return inner\n",
        "\n",
        "double = multiplier(2)  # <--------------------------------------------   here double is not a variable, it is a function. in the line below, we call it with argument 5 which is fed as x.\n",
        "triple = multiplier(3)\n",
        "\n",
        "print(double(5))  # 10\n",
        "print(triple(5))  # 15\n",
        "\n"
      ],
      "metadata": {
        "colab": {
          "base_uri": "https://localhost:8080/"
        },
        "id": "gGJpV4hUqoXl",
        "outputId": "09c6e6de-86da-4a3f-d1dc-a18386fbf49c"
      },
      "execution_count": 6,
      "outputs": [
        {
          "output_type": "stream",
          "name": "stdout",
          "text": [
            "15\n"
          ]
        }
      ]
    },
    {
      "cell_type": "code",
      "source": [
        "# Late-binding gotcha: loop variables are captured by reference\n",
        "funcs = []\n",
        "for i in range(3):\n",
        "    def kk(): return i   # all refer to the SAME 'i'\n",
        "    funcs.append(kk)\n",
        "\n",
        "print([f() for f in funcs])  # [2, 2, 2]  <-- surprise\n"
      ],
      "metadata": {
        "colab": {
          "base_uri": "https://localhost:8080/"
        },
        "id": "yKl1YkCcs7XW",
        "outputId": "99e1d9bc-146b-44f7-c7cc-c860e54239d2"
      },
      "execution_count": 8,
      "outputs": [
        {
          "output_type": "stream",
          "name": "stdout",
          "text": [
            "[2, 2, 2]\n"
          ]
        }
      ]
    },
    {
      "cell_type": "code",
      "source": [
        "# Fix 2: use functools.partial to pre-bind\n",
        "from functools import partial\n",
        "\n",
        "def show(i): return i**2\n",
        "funcs = [partial(show, o) for o in range(8)]\n",
        "print([f() for f in funcs])  # [0, 1, 2]  # <-------------------------------------------- ([f() for....\n"
      ],
      "metadata": {
        "colab": {
          "base_uri": "https://localhost:8080/"
        },
        "id": "RX8puDCGt9eL",
        "outputId": "c16e2da1-c72b-45e9-94b9-aed2c0567e47"
      },
      "execution_count": 11,
      "outputs": [
        {
          "output_type": "stream",
          "name": "stdout",
          "text": [
            "[0, 1, 4, 9, 16, 25, 36, 49]\n"
          ]
        }
      ]
    },
    {
      "cell_type": "code",
      "source": [
        "from functools import lru_cache\n",
        "\n",
        "@lru_cache(maxsize=None)\n",
        "def Fib(a):\n",
        "  if a <= 2:\n",
        "    return a\n",
        "  else:\n",
        "    return Fib(a-1) + Fib(a-2)\n",
        "\n",
        "print([Fib(i) for i in range(10)])\n",
        "print(Fib.cache_info())"
      ],
      "metadata": {
        "colab": {
          "base_uri": "https://localhost:8080/"
        },
        "id": "o-XPKZwP-qwT",
        "outputId": "38ff43ec-0584-4af2-e8de-1e3995be5a0a"
      },
      "execution_count": 12,
      "outputs": [
        {
          "output_type": "stream",
          "name": "stdout",
          "text": [
            "[0, 1, 2, 3, 5, 8, 13, 21, 34, 55]\n",
            "CacheInfo(hits=14, misses=10, maxsize=None, currsize=10)\n"
          ]
        }
      ]
    },
    {
      "cell_type": "code",
      "source": [
        "# partial: pre-fill some args (currying)\n",
        "from functools import partial\n",
        "\n",
        "def power(base, exp): return base ** exp\n",
        "\n",
        "square = partial(power, exp=2)\n",
        "cube   = partial(power, exp=3)\n",
        "\n",
        "print(square(5), cube(3))  # 25 27\n"
      ],
      "metadata": {
        "id": "oL4Xc2PPAY5Z"
      },
      "execution_count": null,
      "outputs": []
    },
    {
      "cell_type": "code",
      "source": [
        "\"\"\"\n",
        "partial: define one function but for two different (slightly different) operations. This function power can bring the base to different powers.\n",
        "\"\"\"\n",
        "\n",
        "from functools import partial\n",
        "def power (base, exp):\n",
        "  return base ** exp\n",
        "\n",
        "square = partial(power, exp=2)\n",
        "cube = partial(power, exp=3)  # <--------------------------------------------partial is useful when we use one function definition but with only one of argument's value\n",
        "print(square(5), cube(4))  # <-------------------------------------------- with one argument difference, power function becomes square or cube\n",
        "# <-------------------------------------------- later we can call this different versions of the function, square or cube, for a chozen value"
      ],
      "metadata": {
        "colab": {
          "base_uri": "https://localhost:8080/"
        },
        "id": "ZJsYnWoxAp7w",
        "outputId": "351f3c16-118a-4a34-9058-614463c029a3"
      },
      "execution_count": 14,
      "outputs": [
        {
          "output_type": "stream",
          "name": "stdout",
          "text": [
            "25 64\n"
          ]
        }
      ]
    },
    {
      "cell_type": "code",
      "source": [
        "# LEGB: Local, Enclosing, Global, Built-in\n",
        "x = \"global\"\n",
        "\n",
        "def outer():\n",
        "    x = \"enclosing\"\n",
        "    def inner():\n",
        "        x = \"local\"\n",
        "        return x\n",
        "    return inner()\n",
        "\n",
        "print(outer())  # local\n"
      ],
      "metadata": {
        "colab": {
          "base_uri": "https://localhost:8080/"
        },
        "id": "jScqa_mTRBXH",
        "outputId": "c889c48f-e751-43f7-d5fe-3a0224f740fd"
      },
      "execution_count": 15,
      "outputs": [
        {
          "output_type": "stream",
          "name": "stdout",
          "text": [
            "local\n"
          ]
        }
      ]
    },
    {
      "cell_type": "code",
      "source": [
        "# nonlocal: rebind variable from enclosing (but not global)\n",
        "def counter():\n",
        "    n = 0\n",
        "    def inc():\n",
        "        nonlocal n.\n",
        "        n += 1\n",
        "        return n\n",
        "    return inc\n",
        "\n",
        "c = counter()\n",
        "print(c(), c(), c())  # 1 2 3\n"
      ],
      "metadata": {
        "colab": {
          "base_uri": "https://localhost:8080/"
        },
        "id": "Pl4YjPNrRPTk",
        "outputId": "97e6e4dc-be3e-4313-b9ca-44261b08fd92"
      },
      "execution_count": 16,
      "outputs": [
        {
          "output_type": "stream",
          "name": "stdout",
          "text": [
            "1 2 3\n"
          ]
        }
      ]
    },
    {
      "cell_type": "code",
      "source": [
        "\"\"\"\n",
        "partial: define one function but for two different (slightly different) operations. This function power can bring the base to different powers.\n",
        "\"\"\"\n",
        "\n",
        "from functools import partial\n",
        "def power (base, exp):\n",
        "  return base ** exp\n",
        "\n",
        "square = partial(power, exp=2)\n",
        "cube = partial(power, exp=3)  # <--------------------------------------------partial is useful when we use one function definition but with only one of argument's value\n",
        "print(square(5), cube(4))  # <-------------------------------------------- with one argument difference, power function becomes square or cube\n",
        "# <-------------------------------------------- later we can call this different versions of the function, square or cube, for a chozen value"
      ],
      "metadata": {
        "colab": {
          "base_uri": "https://localhost:8080/"
        },
        "outputId": "351f3c16-118a-4a34-9058-614463c029a3",
        "id": "C08sc7XmR9a-"
      },
      "execution_count": null,
      "outputs": [
        {
          "output_type": "stream",
          "name": "stdout",
          "text": [
            "25 64\n"
          ]
        }
      ]
    },
    {
      "cell_type": "code",
      "source": [
        "# nonlocal: rebind variable from enclosing (but not global)\n",
        "def counter():\n",
        "    n = 0\n",
        "    def inc():\n",
        "        nonlocal n  # <-------------------------------------------- nonlocal variable is equivalent to Static variables in C and C++\n",
        "        n += 1\n",
        "        return n\n",
        "    return inc\n",
        "\n",
        "c = counter()\n",
        "print(c(), c(), c())  # 1 2 3\n"
      ],
      "metadata": {
        "id": "Rs_mMPgnSADW"
      },
      "execution_count": null,
      "outputs": []
    },
    {
      "cell_type": "code",
      "source": [
        "from typing import Callable, Iterable # <--------------------------------------------\n",
        "\n",
        "def transform (xs: Iterable[int], f: Callable [[int], int] )-> list[int] :   # <--------------------------------------------\n",
        "  return [f(x) for x in xs]  # <--------------------------------------------\n",
        "\n",
        "print(transform([1,2,3], lambda x: x ** 10))   # <--------------------------------------------\n",
        "\n",
        "\n",
        "\n",
        "\n"
      ],
      "metadata": {
        "colab": {
          "base_uri": "https://localhost:8080/"
        },
        "id": "y3aU-2-jVqks",
        "outputId": "a2fd7326-b725-4f4e-dc02-d8bccf9e3bef"
      },
      "execution_count": 22,
      "outputs": [
        {
          "output_type": "stream",
          "name": "stdout",
          "text": [
            "[1, 1024, 59049]\n"
          ]
        }
      ]
    },
    {
      "cell_type": "code",
      "source": [
        "def f3(a, b=5, *, x=10, y=20):\n",
        "    return a + b + x + y\n",
        "\n",
        "print(f3.__defaults__)   # <--------------------------------------------\n",
        "print(f3.__kwdefaults__) # <--------------------------------------------\n"
      ],
      "metadata": {
        "colab": {
          "base_uri": "https://localhost:8080/"
        },
        "id": "Ei1WegzvaveZ",
        "outputId": "e9d9890d-542e-4373-f6af-ece6cf98334b"
      },
      "execution_count": 23,
      "outputs": [
        {
          "output_type": "stream",
          "name": "stdout",
          "text": [
            "(5,)\n",
            "{'x': 10, 'y': 20}\n"
          ]
        }
      ]
    },
    {
      "cell_type": "code",
      "source": [
        "import inspect\n",
        "\n",
        "def sample(a: int, b: str = \"x\", *, flag: bool = False) -> str:   # <-------------------------------------------- * → بعد از اون، هر چی بیاد باید keyword-only باشه (یعنی باید با اسم داده بشه)\n",
        "    \"Docstring here\"\n",
        "    return b * a if flag else b\n",
        "\n",
        "sig = inspect.signature(sample)\n",
        "print(sig)                     # (a: int, b: str = 'x', *, flag: bool = False) -> str\n",
        "print(sample.__doc__)          # Docstring here\n",
        "print(sample.__defaults__)     # ('x',)\n",
        "print(sample.__kwdefaults__)   # {'flag': False}\n"
      ],
      "metadata": {
        "colab": {
          "base_uri": "https://localhost:8080/"
        },
        "id": "pXaNpJ6cbQdB",
        "outputId": "56dad128-3e4a-4f9d-dbde-73e18c16f616"
      },
      "execution_count": 24,
      "outputs": [
        {
          "output_type": "stream",
          "name": "stdout",
          "text": [
            "(a: int, b: str = 'x', *, flag: bool = False) -> str\n",
            "Docstring here\n",
            "('x',)\n",
            "{'flag': False}\n"
          ]
        }
      ]
    },
    {
      "cell_type": "code",
      "source": [
        "# global: rebind module-level name\n",
        "total = 0\n",
        "def add_to_total(x):\n",
        "    global total # <--------------------------------------------\n",
        "    total += x\n",
        "\n",
        "add_to_total(5)\n",
        "print(total)  # 5\n",
        "\n",
        "add_to_total(5)\n",
        "print(total)  # 10\n"
      ],
      "metadata": {
        "colab": {
          "base_uri": "https://localhost:8080/"
        },
        "id": "c6gf7-AXbmWr",
        "outputId": "9132d3d1-d190-4ee0-f2cd-182193e83ca7"
      },
      "execution_count": 26,
      "outputs": [
        {
          "output_type": "stream",
          "name": "stdout",
          "text": [
            "5\n",
            "10\n"
          ]
        }
      ]
    }
  ]
}