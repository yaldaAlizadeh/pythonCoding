{
  "nbformat": 4,
  "nbformat_minor": 0,
  "metadata": {
    "colab": {
      "provenance": [],
      "authorship_tag": "ABX9TyN71wv4zNl3a7Aw687PHkmc",
      "include_colab_link": true
    },
    "kernelspec": {
      "name": "python3",
      "display_name": "Python 3"
    },
    "language_info": {
      "name": "python"
    }
  },
  "cells": [
    {
      "cell_type": "markdown",
      "metadata": {
        "id": "view-in-github",
        "colab_type": "text"
      },
      "source": [
        "<a href=\"https://colab.research.google.com/github/yaldaAlizadeh/pythonCoding/blob/main/dict_operators.ipynb\" target=\"_parent\"><img src=\"https://colab.research.google.com/assets/colab-badge.svg\" alt=\"Open In Colab\"/></a>"
      ]
    },
    {
      "cell_type": "code",
      "execution_count": null,
      "metadata": {
        "id": "xDPgY46PMaJL"
      },
      "outputs": [],
      "source": [
        "# Creation\n",
        "d = {'a': 1, 'b': 2}\n",
        "d2 = dict(c=3, d=4)\n",
        "print(d | d2)        # merge (Python 3.9+)\n",
        "\n",
        "# Access\n",
        "print(d['a'])        # 1\n",
        "print(d.get('x', 0)) # default if missing: 0\n",
        "\n",
        "# Add / modify\n",
        "d['c'] = 3\n",
        "print(d)             # {'a':1, 'b':2, 'c':3}\n",
        "\n",
        "# Remove\n",
        "print(d.pop('b'))    # 2\n",
        "print(d.pop('z', 'N/A'))  # 'N/A' (safe remove)\n",
        "print(d)             # {'a':1, 'c':3}\n",
        "\n",
        "# Iteration\n",
        "for k, v in d.items():\n",
        "    print(k, v)\n",
        "\n",
        "# Update\n",
        "d.update({'x': 9, 'y': 10})\n",
        "print(d)             # {'a':1, 'c':3, 'x':9, 'y':10}\n",
        "\n",
        "# Dict comprehension\n",
        "squares = {x: x**2 for x in range(5)}\n",
        "print(squares)\n",
        "\n",
        "\"\"\"\n",
        "Gotchas:\n",
        "\n",
        "Keys must be immutable (str, int, tuple, not list).\n",
        "\n",
        "{} creates an empty dict, not set.\n",
        "\"\"\""
      ]
    }
  ]
}