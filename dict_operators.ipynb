{
  "nbformat": 4,
  "nbformat_minor": 0,
  "metadata": {
    "colab": {
      "provenance": [],
      "authorship_tag": "ABX9TyM1ED1GfkPvTiAQ/kboOU8j",
      "include_colab_link": true
    },
    "kernelspec": {
      "name": "python3",
      "display_name": "Python 3"
    },
    "language_info": {
      "name": "python"
    }
  },
  "cells": [
    {
      "cell_type": "markdown",
      "metadata": {
        "id": "view-in-github",
        "colab_type": "text"
      },
      "source": [
        "<a href=\"https://colab.research.google.com/github/yaldaAlizadeh/pythonCoding/blob/main/dict_operators.ipynb\" target=\"_parent\"><img src=\"https://colab.research.google.com/assets/colab-badge.svg\" alt=\"Open In Colab\"/></a>"
      ]
    },
    {
      "cell_type": "code",
      "execution_count": 9,
      "metadata": {
        "colab": {
          "base_uri": "https://localhost:8080/",
          "height": 232
        },
        "id": "xDPgY46PMaJL",
        "outputId": "92b33171-c270-468e-ce47-5111f74523f5"
      },
      "outputs": [
        {
          "output_type": "stream",
          "name": "stdout",
          "text": [
            "{'a': 1, 'b': 2, 'c': 3, 'd': 4}\n",
            "1\n",
            "8\n",
            "{'a': 1, 'b': 2, 'c': 3}\n",
            "2\n",
            "N/A\n",
            "{'a': 1, 'c': 3}\n",
            "a 1\n",
            "c 3\n",
            "{'a': 1, 'c': 3, 'x': 9, 'y': 10}\n",
            "{0: 0, 1: 1, 2: 4, 3: 9, 4: 16}\n"
          ]
        },
        {
          "output_type": "execute_result",
          "data": {
            "text/plain": [
              "'\\nGotchas:\\n\\nKeys must be immutable (str, int, tuple, not list).\\n\\n{} creates an empty dict, not set.\\n'"
            ],
            "application/vnd.google.colaboratory.intrinsic+json": {
              "type": "string"
            }
          },
          "metadata": {},
          "execution_count": 9
        }
      ],
      "source": [
        "# Creation\n",
        "d = {'a': 1, 'b': 2}\n",
        "d2 = dict(c=3, d=4)\n",
        "print(d | d2)        # merge (Python 3.9+)\n",
        "\n",
        "# Access\n",
        "print(d['a'])        # 1\n",
        "print(d.get('x', 8)) # default if missing: 0\n",
        "\n",
        "# Add / modify\n",
        "d['c'] = 3   # <-------------------------------------------------------add single member\n",
        "print(d)             # {'a':1, 'b':2, 'c':3}\n",
        "\n",
        "# Remove\n",
        "print(d.pop('b'))    # 2\n",
        "print(d.pop('z', 'N/A'))  # 'N/A' (safe remove). # <------------------------------------------------------need to be careful about safe remove\n",
        "print(d)             # {'a':1, 'c':3}\n",
        "\n",
        "# Iteration\n",
        "for k, v in d.items():  # <----------------------------------------------------- iteration over dictionary pairs of (key, value)\n",
        "    print(k, v)\n",
        "\n",
        "# Update\n",
        "d.update({'x': 9, 'y': 10})    # <-------------------------------------------------------add multiple members\n",
        "print(d)             # {'a':1, 'c':3, 'x':9, 'y':10}\n",
        "\n",
        "# Dict comprehension\n",
        "squares = {x: x**2 for x in range(5)}\n",
        "print(squares)\n",
        "\n",
        "\"\"\"\n",
        "Gotchas:\n",
        "\n",
        "Keys must be immutable (str, int, tuple, not list).\n",
        "\n",
        "{} creates an empty dict, not set.\n",
        "\"\"\""
      ]
    }
  ]
}