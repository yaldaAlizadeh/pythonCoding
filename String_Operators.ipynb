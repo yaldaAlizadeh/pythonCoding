{
  "nbformat": 4,
  "nbformat_minor": 0,
  "metadata": {
    "colab": {
      "provenance": [],
      "authorship_tag": "ABX9TyNR2UZGVBb5ni1F97AiSz/3",
      "include_colab_link": true
    },
    "kernelspec": {
      "name": "python3",
      "display_name": "Python 3"
    },
    "language_info": {
      "name": "python"
    }
  },
  "cells": [
    {
      "cell_type": "markdown",
      "metadata": {
        "id": "view-in-github",
        "colab_type": "text"
      },
      "source": [
        "<a href=\"https://colab.research.google.com/github/yaldaAlizadeh/pythonCoding/blob/main/String_Operators.ipynb\" target=\"_parent\"><img src=\"https://colab.research.google.com/assets/colab-badge.svg\" alt=\"Open In Colab\"/></a>"
      ]
    },
    {
      "cell_type": "code",
      "execution_count": 3,
      "metadata": {
        "colab": {
          "base_uri": "https://localhost:8080/"
        },
        "id": "l7wAdROLGetc",
        "outputId": "e9765d96-4b6d-4b4a-a7c0-bf4f88e2d153"
      },
      "outputs": [
        {
          "output_type": "stream",
          "name": "stdout",
          "text": [
            "0.982793723247329\n",
            "3.605551275463989 0.982793723247329\n",
            "(2+3j)\n"
          ]
        }
      ],
      "source": [
        "import cmath\n",
        "a = 2 + 3j\n",
        "print (cmath.phase(a))\n",
        "r, theta = cmath.polar(a)\n",
        "print (r, theta)\n",
        "k = cmath.rect(r, theta)\n",
        "print(k)"
      ]
    },
    {
      "cell_type": "code",
      "source": [
        "a = -17\n",
        "b = -5\n",
        "print(a/b, a//b, a%b) # 3.4 3 -2\n",
        "a = -17\n",
        "b = 5\n",
        "print(a/b, a//b, a%b) # -3.4 -4 3\n",
        "a = 17\n",
        "b = -5\n",
        "print(a/b, a//b, a%b) # -3.4 4 -3\n"
      ],
      "metadata": {
        "colab": {
          "base_uri": "https://localhost:8080/"
        },
        "id": "CcOKCfphNRx-",
        "outputId": "5fd5688f-9a24-4fb6-f715-ed504da5f972"
      },
      "execution_count": 9,
      "outputs": [
        {
          "output_type": "stream",
          "name": "stdout",
          "text": [
            "3.4 3 -2\n",
            "-3.4 -4 3\n",
            "-3.4 -4 -3\n"
          ]
        }
      ]
    },
    {
      "cell_type": "code",
      "source": [
        "from decimal import Decimal, getcontext\n",
        "getcontext().prec = 6\n",
        "a = Decimal(-4.6745)\n",
        "print(round(a, 3))\n",
        "print(round(a))"
      ],
      "metadata": {
        "colab": {
          "base_uri": "https://localhost:8080/"
        },
        "id": "PdL-JpR3S76u",
        "outputId": "2e0d6137-ca11-4dac-edc6-41f632fc7027"
      },
      "execution_count": 19,
      "outputs": [
        {
          "output_type": "stream",
          "name": "stdout",
          "text": [
            "-4.675\n",
            "-5\n"
          ]
        }
      ]
    },
    {
      "cell_type": "code",
      "source": [
        "from pickle import TRUE\n",
        "# Creation\n",
        "s1 = \"hello\"\n",
        "s2 = 'world'\n",
        "s3 = \"I'm using \\\"quotes\\\"\"\n",
        "print(s3)\n",
        "s4 = r\"C:\\path\\to\\file\"      # raw string: backslashes not escaped\n",
        "s5 = \"\"\"multi\n",
        "line\"\"\"                       # triple-quoted\n",
        "s8 = \"\"\"Not a long string!\n",
        "\"\"\"\n",
        "\n",
        "# # Immutability: in-place change fails\n",
        "# s = \"hello\"\n",
        "# try:\n",
        "#     s[0] = 'H'\n",
        "# except TypeError as e:\n",
        "#     print(type(e).__name__, e)  # TypeError: 'str' object does not support item assignment\n",
        "\n",
        "# # Make a new string instead\n",
        "# s_cap = 'H' + s[1:]\n",
        "\n",
        "# try:\n",
        "#   k = s8.strip()[::-1]\n",
        "#   print(k)\n",
        "#   s8 = s8.strip()\n",
        "#   print(s8)\n",
        "# except TypeError as e:\n",
        "#   print(type(e).__name__, e)\n",
        "\n",
        "print(\"s8=\", s8)\n",
        "if \"4\".isdigit:\n",
        "  try:\n",
        "      o = s8[::-1].lower()\n",
        "      print(\"O string = \", o)\n",
        "  except ValueError as e:\n",
        "    print(type(e).__name__, e)\n",
        "else:\n",
        "  print(\"inappropriate string!\")\n"
      ],
      "metadata": {
        "colab": {
          "base_uri": "https://localhost:8080/"
        },
        "id": "IGpqUzGyZNuB",
        "outputId": "db5e683c-63d1-4f37-f42f-aec5a6de470d"
      },
      "execution_count": 42,
      "outputs": [
        {
          "output_type": "stream",
          "name": "stdout",
          "text": [
            "I'm using \"quotes\"\n",
            "s8= Not a long string!\n",
            "\n",
            "O string =  \n",
            "git nlatn\n"
          ]
        }
      ]
    },
    {
      "cell_type": "code",
      "source": [
        "s = \"  Hello, World!  \"\n",
        "\n",
        "print(s.upper())              # '  HELLO, WORLD!  '\n",
        "print(s.lower())              # '  hello, world!  '\n",
        "print(s.strip())              # 'Hello, World!'   (trims both ends)\n",
        "print(s.lstrip(), s.rstrip()) # left/right trim. <------------------------------------------------------\n",
        "print(\"  0xFF  \".strip(\" 0x\"))# 'FF' (chars set, not substring!). <------------------------------------------------------\n",
        "\n",
        "\n",
        "print(\"a,b,,c\".split(\",\"))            # ['a', 'b', '', 'c']\n",
        "print(\"a b  c\".split())               # ['a','b','c'] (whitespace split)\n",
        "print(\"a,b,c\".split(\",\", maxsplit=1)) # ['a', 'b,c'] <------------------------------------------------------\n",
        "\n",
        "print(\".\".join([\"a\",\"b\",\"c\"])) # 'a.b.c' <------------------------------------------------------\n",
        "try:\n",
        "    \".\".join([\"a\", 1, \"c\"])\n",
        "except TypeError as e:\n",
        "    print(\"join error:\", e)    # all items must be str\n",
        "\n",
        "print(\"banana\".find(\"na\"))     # 2  (−1 if not found) <------------------------------------------------------\n",
        "print(\"banana\".rfind(\"na\"))    # 4. <------------------------------------------------------\n",
        "try:\n",
        "    print(\"banana\".index(\"x\")) # raises if not found\n",
        "except ValueError as e:\n",
        "    print(\"index error:\", e)\n",
        "\n",
        "print(\"hello world\".replace(\"l\", \"L\", 2))  # 'heLLo world' (count arg) <------------------------------------------------------\n",
        "print(\"2025-10-21\".replace(\"-\", \"/\"))     # '2025/10/21'\n"
      ],
      "metadata": {
        "colab": {
          "base_uri": "https://localhost:8080/"
        },
        "id": "BYrRY8jDibTy",
        "outputId": "4144d6e3-6009-4e8c-ff89-3d78bb6bb731"
      },
      "execution_count": 6,
      "outputs": [
        {
          "output_type": "stream",
          "name": "stdout",
          "text": [
            "  HELLO, WORLD!  \n",
            "  hello, world!  \n",
            "Hello, World!\n",
            "Hello, World!     Hello, World!\n",
            "FF\n",
            "\n",
            "['a', 'b', '', 'c']\n",
            "['a', 'b', 'c']\n",
            "['a', 'b,c']\n",
            "a.b.c\n",
            "join error: sequence item 1: expected str instance, int found\n",
            "2\n",
            "4\n",
            "index error: substring not found\n",
            "heLLo world\n",
            "2025/10/21\n"
          ]
        }
      ]
    },
    {
      "cell_type": "code",
      "source": [
        "\n",
        "s = \"Report_Q4_2025.pdf\"\n",
        "print(s.startswith(\"Report\"))               # True <------------------------------------------------------\n",
        "print(s.endswith((\".pdf\", \".docx\")))       # True (tuple allowed)\n",
        "\n",
        "print(\"abc123\".isalnum())   # True <------------------------------------------------------\n",
        "print(\"abc\".isalpha())      # True <------------------------------------------------------\n",
        "print(\"123\".isdigit())      # True\n",
        "print(\" \".isspace())        # True <------------------------------------------------------\n",
        "\n",
        "# Case-insensitive compare\n",
        "print(\"straße\".lower() == \"STRASSE\".lower())   # False (locale quirks)\n",
        "print(\"straße\".casefold() == \"STRASSE\".casefold()) # True (use casefold) <------------------------------------------------------<------------------------------------------------------\n"
      ],
      "metadata": {
        "colab": {
          "base_uri": "https://localhost:8080/"
        },
        "id": "u5W6IzmuUdaY",
        "outputId": "97cb8b1b-6f23-45ec-ae43-95e90a4e90b4"
      },
      "execution_count": 7,
      "outputs": [
        {
          "output_type": "stream",
          "name": "stdout",
          "text": [
            "True\n",
            "True\n",
            "True\n",
            "True\n",
            "True\n",
            "True\n",
            "False\n",
            "strasse\n",
            "True\n"
          ]
        }
      ]
    },
    {
      "cell_type": "code",
      "source": [
        "text = \"\"\" While we embrace the usage of advanced tooling in our day-to-day work to build the future of social connection,\\n\n",
        "we ask that you not use any unauthorized outside assistance during interviews.\\n\n",
        "Throughout the interview process you may be asked to share your screen via Zoom.\\nHere you can find guidance on how this works.\\n\n",
        "Additionally, we ask that you disable and not use filters during your interview.\\n\n",
        "\"\"\"\n",
        "print(text.splitlines())           # <------------------------------------------------------\n",
        "print(text.splitlines(keepends=True))  # keeps \\n/\\r\\n # <------------------------------------------------------\n",
        "\n",
        "# Collapsing inner whitespace (e.g., user input normalization)\n",
        "raw = \"  hello     \\\"     world \\t \\n \"\n",
        "normalized = \" \".join(raw.split()).\n",
        "print(normalized)                 # 'hello world'\n"
      ],
      "metadata": {
        "colab": {
          "base_uri": "https://localhost:8080/"
        },
        "id": "uQjw9V4oW3AU",
        "outputId": "5b554bcb-bfef-4ad2-c663-63ac5af91c61"
      },
      "execution_count": 12,
      "outputs": [
        {
          "output_type": "stream",
          "name": "stdout",
          "text": [
            "[' While we embrace the usage of advanced tooling in our day-to-day work to build the future of social connection,', '', 'we ask that you not use any unauthorized outside assistance during interviews.', '', 'Throughout the interview process you may be asked to share your screen via Zoom.', 'Here you can find guidance on how this works.', '', 'Additionally, we ask that you disable and not use filters during your interview.', '']\n",
            "[' While we embrace the usage of advanced tooling in our day-to-day work to build the future of social connection,\\n', '\\n', 'we ask that you not use any unauthorized outside assistance during interviews.\\n', '\\n', 'Throughout the interview process you may be asked to share your screen via Zoom.\\n', 'Here you can find guidance on how this works.\\n', '\\n', 'Additionally, we ask that you disable and not use filters during your interview.\\n', '\\n']\n",
            "hello \" world\n"
          ]
        }
      ]
    },
    {
      "cell_type": "code",
      "source": [
        "text = \"\"\" While we embrace the usage of advanced tooling in our day-to-day work to build the future of social connection,\\n\n",
        "we ask that you not use any unauthorized outside assistance during interviews.\\n\n",
        "Throughout the interview process you may be asked to share your screen via Zoom.\\nHere you can find guidance on how this works.\\n\n",
        "Additionally, we ask that you disable and not use filters during your interview.\\n\n",
        "\"\"\"\n",
        "print(text.splitlines())           # <------------------------------------------------------\n",
        "print(text.splitlines(keepends=True))  # keeps \\n/\\r\\n # <------------------------------------------------------\n",
        "\n",
        "# Collapsing inner whitespace (e.g., user input normalization)\n",
        "raw = \"  hello     \\\"     world \\t \\n \"\n",
        "normalized = \" \".join(raw.split())  # <------------------------------------------------------\n",
        "print(normalized)                 # 'hello world'\n"
      ],
      "metadata": {
        "colab": {
          "base_uri": "https://localhost:8080/"
        },
        "outputId": "5b554bcb-bfef-4ad2-c663-63ac5af91c61",
        "id": "nn8K8WQfYw0J"
      },
      "execution_count": null,
      "outputs": [
        {
          "output_type": "stream",
          "name": "stdout",
          "text": [
            "[' While we embrace the usage of advanced tooling in our day-to-day work to build the future of social connection,', '', 'we ask that you not use any unauthorized outside assistance during interviews.', '', 'Throughout the interview process you may be asked to share your screen via Zoom.', 'Here you can find guidance on how this works.', '', 'Additionally, we ask that you disable and not use filters during your interview.', '']\n",
            "[' While we embrace the usage of advanced tooling in our day-to-day work to build the future of social connection,\\n', '\\n', 'we ask that you not use any unauthorized outside assistance during interviews.\\n', '\\n', 'Throughout the interview process you may be asked to share your screen via Zoom.\\n', 'Here you can find guidance on how this works.\\n', '\\n', 'Additionally, we ask that you disable and not use filters during your interview.\\n', '\\n']\n",
            "hello \" world\n"
          ]
        }
      ]
    },
    {
      "cell_type": "code",
      "source": [
        "name = \"Yalda\"\n",
        "age = 42\n",
        "print(\"My name is %s and I am %d years old.\" %(name, age)) # <------------------------------------------------------\n"
      ],
      "metadata": {
        "colab": {
          "base_uri": "https://localhost:8080/"
        },
        "id": "fx7hoM0-hgnY",
        "outputId": "9e1c32b6-b4be-4d18-9611-658d09b31fad"
      },
      "execution_count": 19,
      "outputs": [
        {
          "output_type": "stream",
          "name": "stdout",
          "text": [
            "My name is Yalda and I am 42 years old.\n"
          ]
        }
      ]
    },
    {
      "cell_type": "code",
      "source": [
        "import unicodedata as ud # <------------------------------------------------------\n",
        "\n",
        "a = \"Cafe\\u0301\"  # 'Cafe' + COMBINING ACUTE\n",
        "b = \"Café\"        # precomposed\n",
        "\n",
        "print(a, b, a == b)                  # visually same, but False\n",
        "print(len(a), len(b))                # can differ\n",
        "\n",
        "# Normalize before comparing/storing\n",
        "a_n = ud.normalize(\"NFC\", a) # <------------------------------------------------------\n",
        "b_n = ud.normalize(\"NFC\", b)\n",
        "print(a_n == b_n)                    # True # <------------------------------------------------------\n"
      ],
      "metadata": {
        "colab": {
          "base_uri": "https://localhost:8080/"
        },
        "id": "E6K9v6tPkxkz",
        "outputId": "66e7af88-d67c-4cba-d7f1-8dbfba54da4e"
      },
      "execution_count": 20,
      "outputs": [
        {
          "output_type": "stream",
          "name": "stdout",
          "text": [
            "Café Café False\n",
            "5 4\n",
            "True\n"
          ]
        }
      ]
    },
    {
      "cell_type": "code",
      "source": [
        "s = \"Hello\\n World\"\n",
        "print(\"Using %%s: %s\" % s)\n",
        "print(\"Using %%r: %r\" % s)\n"
      ],
      "metadata": {
        "colab": {
          "base_uri": "https://localhost:8080/"
        },
        "id": "_SWFspsGm9GY",
        "outputId": "cb99f759-c2d3-409f-cef5-ecf8a2a9b089"
      },
      "execution_count": 24,
      "outputs": [
        {
          "output_type": "stream",
          "name": "stdout",
          "text": [
            "Using %s: Hello\n",
            " World\n",
            "Using %r: 'Hello\\n World'\n"
          ]
        }
      ]
    },
    {
      "cell_type": "code",
      "source": [
        "s = \"Café\"\n",
        "# print(s.index(\"a\"))\n",
        "b = s.encode(\"utf-8\")     # bytes\n",
        "print(b)                  # b'Caf\\xc3\\xa9'\n",
        "\n",
        "print(b.decode(\"utf-8\"))  # back to str\n",
        "\n",
        "# Error handling\n",
        "bad_bytes = b\"Caf\\xff\" # <------------------------------------------------------\n",
        "print(bad_bytes.decode(\"utf-8\", errors=\"replace\"))  # 'Caf�'\n"
      ],
      "metadata": {
        "colab": {
          "base_uri": "https://localhost:8080/"
        },
        "id": "oemXJjA46ier",
        "outputId": "896f8655-3a28-4114-8d8f-81ac249fa3b2"
      },
      "execution_count": 38,
      "outputs": [
        {
          "output_type": "stream",
          "name": "stdout",
          "text": [
            "1\n",
            "b'Caf\\xc3\\xa9'\n",
            "Café\n",
            "Caf�\n"
          ]
        }
      ]
    },
    {
      "cell_type": "code",
      "source": [
        "# Bad: repeated concatenation in loop (quadratic)\n",
        "parts = []\n",
        "for i in range(5_000):\n",
        "    parts.append(str(i))\n",
        "s = \",\".join(parts)   # ✅ O(n) # <------------------------------------------------------\n",
        "\n",
        "# If you must append piecewise, collect then join.\n"
      ],
      "metadata": {
        "id": "M90CZaOM7f1b"
      },
      "execution_count": null,
      "outputs": []
    },
    {
      "cell_type": "code",
      "source": [
        "sentence = \" \".join(word.upper() for word in [\"hi\", \"there\"])\n",
        "print(sentence)"
      ],
      "metadata": {
        "colab": {
          "base_uri": "https://localhost:8080/"
        },
        "id": "ibWAhKJd8cYq",
        "outputId": "8c31ac68-01a6-4a27-ce81-14ff866d953d"
      },
      "execution_count": 41,
      "outputs": [
        {
          "output_type": "stream",
          "name": "stdout",
          "text": [
            "HI THERE\n"
          ]
        }
      ]
    },
    {
      "cell_type": "code",
      "source": [
        "# translate / maketrans (fast multi-char replace / delete)\n",
        "tbl = str.maketrans({\"-\": \"\", \"_\": \" \", \".\": \" \"}) # <------------------------------------------------------\n",
        "print(\"report-q4_2025.final\".translate(tbl))  # 'reportq4 2025 final'\n",
        "\n",
        "# partition vs split (exactly 3 parts, stable when missing)\n",
        "user = \"name:yalda\"\n",
        "par = user.partition(\":\")\n",
        "print(par)        # ('name', ':', 'yalda') # <------------------------------------------------------\n",
        "\n",
        "print(\"no-colon\".partition(\":\"))  # ('no-colon', '', '')\n",
        "\n",
        "# count occurrences\n",
        "print(\"banana\".count(\"na\"))       # 2\n"
      ],
      "metadata": {
        "colab": {
          "base_uri": "https://localhost:8080/"
        },
        "id": "cVWCJnqt_Ftt",
        "outputId": "48c3664b-c33a-4bd8-d134-2e4b75c5378c"
      },
      "execution_count": 44,
      "outputs": [
        {
          "output_type": "stream",
          "name": "stdout",
          "text": [
            "reportq4 2025 final\n",
            "('name', ':', 'yalda')\n",
            "('no-colon', '', '')\n",
            "2\n"
          ]
        }
      ]
    }
  ]
}