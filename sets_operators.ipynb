{
  "nbformat": 4,
  "nbformat_minor": 0,
  "metadata": {
    "colab": {
      "provenance": [],
      "authorship_tag": "ABX9TyPjYPmfmB0g0IZ4+XJwEiA8",
      "include_colab_link": true
    },
    "kernelspec": {
      "name": "python3",
      "display_name": "Python 3"
    },
    "language_info": {
      "name": "python"
    }
  },
  "cells": [
    {
      "cell_type": "markdown",
      "metadata": {
        "id": "view-in-github",
        "colab_type": "text"
      },
      "source": [
        "<a href=\"https://colab.research.google.com/github/yaldaAlizadeh/pythonCoding/blob/main/sets_operators.ipynb\" target=\"_parent\"><img src=\"https://colab.research.google.com/assets/colab-badge.svg\" alt=\"Open In Colab\"/></a>"
      ]
    },
    {
      "cell_type": "code",
      "execution_count": null,
      "metadata": {
        "id": "BbMrmn-Ke2-p"
      },
      "outputs": [],
      "source": [
        "# Creation\n",
        "st = {1, 2, 3}\n",
        "st2 = set([3, 4, 5])\n",
        "\n",
        "print(st | st2)   # union -> {1, 2, 3, 4, 5}\n",
        "print(st & st2)   # intersection -> {3}\n",
        "print(st - st2)   # difference -> {1, 2}\n",
        "print(st ^ st2)   # symmetric difference -> {1, 2, 4, 5}\n",
        "\n",
        "# Methods\n",
        "st.add(4)\n",
        "st.discard(10)    # safe remove (no error)\n",
        "try:\n",
        "    st.remove(10) # raises KeyError if not found\n",
        "except KeyError as e:\n",
        "    print(\"remove error:\", e)\n",
        "\n",
        "print(st)         # {1,2,3,4}\n",
        "st.pop()          # removes arbitrary element\n",
        "st.clear()\n",
        "\n",
        "# Set comprehension\n",
        "squares = {x**2 for x in range(5)}\n",
        "print(squares)    # {0, 1, 4, 9, 16}\n",
        "\n",
        "# Frozen set (immutable)\n",
        "frozen = frozenset([1, 2, 2, 3])\n",
        "print(frozen)     # frozenset({1,2,3})\n"
      ]
    }
  ]
}