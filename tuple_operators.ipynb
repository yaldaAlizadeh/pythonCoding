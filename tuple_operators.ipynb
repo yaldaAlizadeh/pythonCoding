{
  "nbformat": 4,
  "nbformat_minor": 0,
  "metadata": {
    "colab": {
      "provenance": [],
      "authorship_tag": "ABX9TyMkJnD1ZI/3JBgU2ugYVht0",
      "include_colab_link": true
    },
    "kernelspec": {
      "name": "python3",
      "display_name": "Python 3"
    },
    "language_info": {
      "name": "python"
    }
  },
  "cells": [
    {
      "cell_type": "markdown",
      "metadata": {
        "id": "view-in-github",
        "colab_type": "text"
      },
      "source": [
        "<a href=\"https://colab.research.google.com/github/yaldaAlizadeh/pythonCoding/blob/main/tuple_operators.ipynb\" target=\"_parent\"><img src=\"https://colab.research.google.com/assets/colab-badge.svg\" alt=\"Open In Colab\"/></a>"
      ]
    },
    {
      "cell_type": "code",
      "execution_count": 14,
      "metadata": {
        "colab": {
          "base_uri": "https://localhost:8080/"
        },
        "id": "6O6R5iTnT3Mr",
        "outputId": "73e09f1e-675d-4fdb-81de-f875ae0d41df"
      },
      "outputs": [
        {
          "output_type": "stream",
          "name": "stdout",
          "text": [
            "('4', 'ss5')\n",
            "2\n",
            "3\n",
            "1 2 3\n",
            "4\n",
            "'tuple' object does not support item assignment\n"
          ]
        }
      ],
      "source": [
        "# Creation\n",
        "\n",
        "single = (4, )     # comma required for single-element tuple\n",
        "t = tuple([\"4\", \"ss5\"])  # <------------------------------ Convert list to tuple\n",
        "print(t)          # (4, 5)\n",
        "\n",
        "# Access\n",
        "mytuple = (1, 2, 3)\n",
        "print(mytuple[1])     # 2\n",
        "print(mytuple[-1])    # 3\n",
        "\n",
        "\n",
        "# Tuple packing/unpacking\n",
        "a, b, c = mytuple        # <------------------------------  multiple assignment for tuple members\n",
        "print(a, b, c)    # 1 2 3\n",
        "\n",
        "# Nesting\n",
        "nested = ((1, 2), (3, 4))   # <------------------------------ nested tuple\n",
        "print(nested[1][1])  # 4\n",
        "\n",
        "# Immutability\n",
        "try:\n",
        "    mytuple[0] = 9  # <------------------------------\n",
        "except TypeError as e:\n",
        "    print(e)\n"
      ]
    }
  ]
}